{
 "cells": [
  {
   "cell_type": "code",
   "execution_count": 1,
   "id": "ab6bd204",
   "metadata": {},
   "outputs": [],
   "source": [
    "#import \n",
    "import pandas as pd\n",
    "import re\n",
    "import os"
   ]
  },
  {
   "cell_type": "code",
   "execution_count": 2,
   "id": "aac55b8c",
   "metadata": {},
   "outputs": [
    {
     "data": {
      "text/plain": [
       "'C:\\\\Users\\\\Administrator'"
      ]
     },
     "execution_count": 2,
     "metadata": {},
     "output_type": "execute_result"
    }
   ],
   "source": [
    "#check the working directory\n",
    "os.getcwd()"
   ]
  },
  {
   "cell_type": "code",
   "execution_count": 3,
   "id": "fa24aa2c",
   "metadata": {},
   "outputs": [],
   "source": [
    "#change the working directory\n",
    "os.chdir('E:\\\\下载\\\\project\\\\GOT\\\\script\\\\S1')"
   ]
  },
  {
   "cell_type": "code",
   "execution_count": 4,
   "id": "33f83948",
   "metadata": {
    "scrolled": true
   },
   "outputs": [
    {
     "data": {
      "text/plain": [
       "'E:\\\\下载\\\\project\\\\GOT\\\\script\\\\S1'"
      ]
     },
     "execution_count": 4,
     "metadata": {},
     "output_type": "execute_result"
    }
   ],
   "source": [
    "#reconfirm\n",
    "os.getcwd()"
   ]
  },
  {
   "cell_type": "code",
   "execution_count": 5,
   "id": "5b5a5e14",
   "metadata": {},
   "outputs": [],
   "source": [
    "#webdata scraping\n",
    "\n",
    "#import\n",
    "import requests\n",
    "from bs4 import BeautifulSoup\n",
    "\n",
    "#get url\n",
    "url = \"https://genius.com/1639510?\"\n",
    "\n",
    "#getting response object\n",
    "res=requests.get(url)\n",
    " \n",
    "#Initialize the object with the document\n",
    "soup = BeautifulSoup(res.content, \"html.parser\")\n",
    " \n",
    "#Get the whole page\n",
    "page = soup.html\n",
    " \n",
    "#Print each string recursively\n",
    "#for string in page.strings:\n",
    "#    print(string)"
   ]
  },
  {
   "cell_type": "code",
   "execution_count": 6,
   "id": "693fddd7",
   "metadata": {},
   "outputs": [],
   "source": [
    "#save the webpage as text file\n",
    "f_test=open(\"S1E1.txt\",\"w\", encoding='utf-8') \n",
    "\n",
    "for string in page.strings:\n",
    "    f_test.write(string)\n",
    "\n",
    "f_test.close()"
   ]
  },
  {
   "cell_type": "code",
   "execution_count": 7,
   "id": "a4ae6d38",
   "metadata": {
    "scrolled": true
   },
   "outputs": [],
   "source": [
    "#open the script\n",
    "with open(\"S1E1.txt\",encoding='utf-8',errors='ignore') as f:\n",
    "         data = f.read()\n",
    "#print the data(if applicable) \n",
    "#print(data)"
   ]
  },
  {
   "cell_type": "code",
   "execution_count": 8,
   "id": "79e4c71f",
   "metadata": {
    "scrolled": true
   },
   "outputs": [],
   "source": [
    "#data cleaning: remove the inequivalent contents\n",
    "\n",
    "#type the \"[begining]\" and the \"[ending]\" between the content we want(edit directly in txt file)\n",
    "#remove the text above \"[begining]\"\n",
    "data = data.split('[begining]')[1]\n",
    "#print the data(if applicable) \n",
    "#print(data)"
   ]
  },
  {
   "cell_type": "code",
   "execution_count": 9,
   "id": "5f81a9c9",
   "metadata": {},
   "outputs": [],
   "source": [
    "#remove the text below \"[ending]\"\n",
    "data = data.split('[ending]')[0]\n",
    "#print the data(if applicable) \n",
    "#print(data)"
   ]
  },
  {
   "cell_type": "code",
   "execution_count": 10,
   "id": "61201c79",
   "metadata": {},
   "outputs": [],
   "source": [
    "#get rid of the \"-\" in the script\n",
    "data = data.replace('-', '')\n",
    "#print the data(if applicable) \n",
    "#print(data)"
   ]
  },
  {
   "cell_type": "code",
   "execution_count": 11,
   "id": "6adad53f",
   "metadata": {},
   "outputs": [],
   "source": [
    "#remove all the blank lines in the script\n",
    "regex = r\"^\\s+$\"\n",
    "subst = \"\"\n",
    "data = re.sub(regex, subst, data, 0, re.MULTILINE)\n",
    "\n",
    "regex = r\"^$\\n\"\n",
    "subst = \"\"\n",
    "data = re.sub(regex, subst, data, 0, re.MULTILINE)\n",
    "\n",
    "#print the data(if applicable) \n",
    "#print(data)"
   ]
  },
  {
   "cell_type": "code",
   "execution_count": 12,
   "id": "cb092e34",
   "metadata": {},
   "outputs": [],
   "source": [
    "#save the cleaned script for later use of wordcloud\n",
    "f_2=open(\"word_cloudS1E1.txt\",\"w\", encoding='utf-8') \n",
    "f_2.write(data)\n",
    "f_2.close()"
   ]
  },
  {
   "cell_type": "code",
   "execution_count": 13,
   "id": "9ffdce82",
   "metadata": {},
   "outputs": [],
   "source": [
    "#split the lines by the line changing mark\n",
    "lines = data.split('\\n')\n",
    "#print the data(if applicable) \n",
    "#print(data)"
   ]
  },
  {
   "cell_type": "code",
   "execution_count": 14,
   "id": "675b440b",
   "metadata": {
    "scrolled": true
   },
   "outputs": [
    {
     "data": {
      "text/plain": [
       "[[1,\n",
       "  '[First scene opens with three Rangers riding through a tunnel, leaving the Wall, and going into the woods. (Eerie music in background) One Ranger splits off and finds a campsite full of mutilated bodies, including a child hanging from a tree branch. A birdseye view shows the bodies arranged in a shieldlike pattern. The Ranger rides back to the other two.]'],\n",
       " [2,\n",
       "  'WAYMAR ROYCE: What d’you expect? They’re savages. One lot steals a goat from another lot and before you know it, they’re ripping each other to pieces.'],\n",
       " [3,\n",
       "  'WILL: I’ve never seen wildlings do a thing like this. I’ve never seen a thing like this, not ever in my life.'],\n",
       " [4, 'WAYMAR ROYCE: How close did you get?'],\n",
       " [5, 'WILL: Close as any man would.'],\n",
       " [6, 'GARED: We should head back to the wall.'],\n",
       " [7, 'ROYCE: Do the dead frighten you?'],\n",
       " [8,\n",
       "  'GARED: Our orders were to track the wildlings. We tracked them. They won’t trouble us no more.'],\n",
       " [9,\n",
       "  'ROYCE: You don’t think he’ll ask us how they died? Get back on your horse.'],\n",
       " [10, '[GARED grumbles.]']]"
      ]
     },
     "execution_count": 14,
     "metadata": {},
     "output_type": "execute_result"
    }
   ],
   "source": [
    "#number the lines\n",
    "myrows = []\n",
    "\n",
    "num = 1\n",
    "for line in lines:\n",
    "    myrows.append([num, line])\n",
    "    num = num + 1\n",
    "#check whether the lines have been successfully splited and numbered\n",
    "myrows[:10]"
   ]
  },
  {
   "cell_type": "code",
   "execution_count": 15,
   "id": "23bf4f5c",
   "metadata": {
    "scrolled": false
   },
   "outputs": [
    {
     "data": {
      "text/html": [
       "<div>\n",
       "<style scoped>\n",
       "    .dataframe tbody tr th:only-of-type {\n",
       "        vertical-align: middle;\n",
       "    }\n",
       "\n",
       "    .dataframe tbody tr th {\n",
       "        vertical-align: top;\n",
       "    }\n",
       "\n",
       "    .dataframe thead th {\n",
       "        text-align: right;\n",
       "    }\n",
       "</style>\n",
       "<table border=\"1\" class=\"dataframe\">\n",
       "  <thead>\n",
       "    <tr style=\"text-align: right;\">\n",
       "      <th></th>\n",
       "      <th>0</th>\n",
       "      <th>1</th>\n",
       "    </tr>\n",
       "  </thead>\n",
       "  <tbody>\n",
       "    <tr>\n",
       "      <th>0</th>\n",
       "      <td>1</td>\n",
       "      <td>[First scene opens with three Rangers riding t...</td>\n",
       "    </tr>\n",
       "    <tr>\n",
       "      <th>1</th>\n",
       "      <td>2</td>\n",
       "      <td>WAYMAR ROYCE: What d’you expect? They’re savag...</td>\n",
       "    </tr>\n",
       "    <tr>\n",
       "      <th>2</th>\n",
       "      <td>3</td>\n",
       "      <td>WILL: I’ve never seen wildlings do a thing lik...</td>\n",
       "    </tr>\n",
       "    <tr>\n",
       "      <th>3</th>\n",
       "      <td>4</td>\n",
       "      <td>WAYMAR ROYCE: How close did you get?</td>\n",
       "    </tr>\n",
       "    <tr>\n",
       "      <th>4</th>\n",
       "      <td>5</td>\n",
       "      <td>WILL: Close as any man would.</td>\n",
       "    </tr>\n",
       "  </tbody>\n",
       "</table>\n",
       "</div>"
      ],
      "text/plain": [
       "   0                                                  1\n",
       "0  1  [First scene opens with three Rangers riding t...\n",
       "1  2  WAYMAR ROYCE: What d’you expect? They’re savag...\n",
       "2  3  WILL: I’ve never seen wildlings do a thing lik...\n",
       "3  4               WAYMAR ROYCE: How close did you get?\n",
       "4  5                      WILL: Close as any man would."
      ]
     },
     "execution_count": 15,
     "metadata": {},
     "output_type": "execute_result"
    }
   ],
   "source": [
    "#turn the numbered and splited lines into dataframe\n",
    "df = pd.DataFrame(myrows)\n",
    "df.head()"
   ]
  },
  {
   "cell_type": "code",
   "execution_count": 16,
   "id": "74150888",
   "metadata": {},
   "outputs": [
    {
     "data": {
      "text/html": [
       "<div>\n",
       "<style scoped>\n",
       "    .dataframe tbody tr th:only-of-type {\n",
       "        vertical-align: middle;\n",
       "    }\n",
       "\n",
       "    .dataframe tbody tr th {\n",
       "        vertical-align: top;\n",
       "    }\n",
       "\n",
       "    .dataframe thead th {\n",
       "        text-align: right;\n",
       "    }\n",
       "</style>\n",
       "<table border=\"1\" class=\"dataframe\">\n",
       "  <thead>\n",
       "    <tr style=\"text-align: right;\">\n",
       "      <th></th>\n",
       "      <th>line</th>\n",
       "      <th>text</th>\n",
       "    </tr>\n",
       "  </thead>\n",
       "  <tbody>\n",
       "    <tr>\n",
       "      <th>0</th>\n",
       "      <td>1</td>\n",
       "      <td>[First scene opens with three Rangers riding t...</td>\n",
       "    </tr>\n",
       "    <tr>\n",
       "      <th>1</th>\n",
       "      <td>2</td>\n",
       "      <td>WAYMAR ROYCE: What d’you expect? They’re savag...</td>\n",
       "    </tr>\n",
       "    <tr>\n",
       "      <th>2</th>\n",
       "      <td>3</td>\n",
       "      <td>WILL: I’ve never seen wildlings do a thing lik...</td>\n",
       "    </tr>\n",
       "    <tr>\n",
       "      <th>3</th>\n",
       "      <td>4</td>\n",
       "      <td>WAYMAR ROYCE: How close did you get?</td>\n",
       "    </tr>\n",
       "    <tr>\n",
       "      <th>4</th>\n",
       "      <td>5</td>\n",
       "      <td>WILL: Close as any man would.</td>\n",
       "    </tr>\n",
       "  </tbody>\n",
       "</table>\n",
       "</div>"
      ],
      "text/plain": [
       "   line                                               text\n",
       "0     1  [First scene opens with three Rangers riding t...\n",
       "1     2  WAYMAR ROYCE: What d’you expect? They’re savag...\n",
       "2     3  WILL: I’ve never seen wildlings do a thing lik...\n",
       "3     4               WAYMAR ROYCE: How close did you get?\n",
       "4     5                      WILL: Close as any man would."
      ]
     },
     "execution_count": 16,
     "metadata": {},
     "output_type": "execute_result"
    }
   ],
   "source": [
    "#name the column\n",
    "df.columns = ['line', 'text']\n",
    "df.head()"
   ]
  },
  {
   "cell_type": "code",
   "execution_count": 17,
   "id": "6cf7a66b",
   "metadata": {},
   "outputs": [],
   "source": [
    "#save the data frame to csv.file\n",
    "df.to_csv('dataS1E1.csv', index=False,encoding='utf-16')"
   ]
  }
 ],
 "metadata": {
  "kernelspec": {
   "display_name": "Python 3 (ipykernel)",
   "language": "python",
   "name": "python3"
  },
  "language_info": {
   "codemirror_mode": {
    "name": "ipython",
    "version": 3
   },
   "file_extension": ".py",
   "mimetype": "text/x-python",
   "name": "python",
   "nbconvert_exporter": "python",
   "pygments_lexer": "ipython3",
   "version": "3.9.7"
  }
 },
 "nbformat": 4,
 "nbformat_minor": 5
}
